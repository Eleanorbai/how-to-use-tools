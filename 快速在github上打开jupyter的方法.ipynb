{
 "cells": [
  {
   "cell_type": "markdown",
   "metadata": {},
   "source": [
    "#### jupter稍微大一点就会在github上打开失败\n",
    "#### 有什么办法呢？？jupyter推出了免费的nbviewer开源项目，解决了在github上加载慢的难题。"
   ]
  },
  {
   "cell_type": "markdown",
   "metadata": {},
   "source": [
    "#### 所有上传到github上的ipynb文件，都会同步到nbviewer服务器上。笔记也经过了渲染，显示效果很棒，而且访问速度非常快。\n",
    "\n",
    "### 使用方法是在[nbviewer](https://link.zhihu.com/?target=http%3A//nbviewer.jupyter.org/)主页上，输入自己的github用户名，找到自己创建的仓库，再找到对应的笔记。\n",
    "\n",
    "#### 比如上面无法显示的笔记，去nbviewer上查看的话，能快速打开笔记，方便查看笔记内容。可以点击链接体验一下加载速度：Jupyter Notebook Viewer日后不论是讲课，还是存放资料，github+jupyter的使用场景一定会越来越广。"
   ]
  },
  {
   "cell_type": "code",
   "execution_count": null,
   "metadata": {
    "collapsed": true
   },
   "outputs": [],
   "source": []
  }
 ],
 "metadata": {
  "kernelspec": {
   "display_name": "Python 3",
   "language": "python",
   "name": "python3"
  },
  "language_info": {
   "codemirror_mode": {
    "name": "ipython",
    "version": 3
   },
   "file_extension": ".py",
   "mimetype": "text/x-python",
   "name": "python",
   "nbconvert_exporter": "python",
   "pygments_lexer": "ipython3",
   "version": "3.6.3"
  }
 },
 "nbformat": 4,
 "nbformat_minor": 2
}
