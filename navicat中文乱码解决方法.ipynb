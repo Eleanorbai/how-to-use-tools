{
 "cells": [
  {
   "cell_type": "markdown",
   "metadata": {},
   "source": [
    "### 1. 鼠标右键点击数据库，选择“数据库属性”\n",
    "\n",
    "<a href=\"https://cl.ly/1n3h080p0w0X\" target=\"_blank\"><img src=\"https://dr5mo5s7lqrtc.cloudfront.net/items/2V3M3F1L2q2j2D0j0m0G/QQ20180409-234613.png\" style=\"display: block;height: auto;width: 50%;\"/></a>\n",
    "\n",
    "### 2. 自定义字符修改至utf8\n",
    "<a href=\"https://cl.ly/1g0T3X0O423k\" target=\"_blank\"><img src=\"https://dr5mo5s7lqrtc.cloudfront.net/items/1r361g2c2p1Z3b3T0V1g/QQ20180410-004413.png\" style=\"display: block;height: auto;width: 50%;\"/></a>\n",
    "\n",
    "### 3. 重新导入表格\n",
    "\n",
    "### WALA~~"
   ]
  },
  {
   "cell_type": "code",
   "execution_count": null,
   "metadata": {
    "collapsed": true
   },
   "outputs": [],
   "source": []
  }
 ],
 "metadata": {
  "kernelspec": {
   "display_name": "Python 3",
   "language": "python",
   "name": "python3"
  },
  "language_info": {
   "codemirror_mode": {
    "name": "ipython",
    "version": 3
   },
   "file_extension": ".py",
   "mimetype": "text/x-python",
   "name": "python",
   "nbconvert_exporter": "python",
   "pygments_lexer": "ipython3",
   "version": "3.6.3"
  }
 },
 "nbformat": 4,
 "nbformat_minor": 2
}
